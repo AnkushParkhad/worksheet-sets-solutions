{
 "cells": [
  {
   "cell_type": "markdown",
   "id": "502902d3",
   "metadata": {},
   "source": [
    "#### 11. Write a python function print pyramid of stars. Level of the pyramid should be taken as an input from the user."
   ]
  },
  {
   "cell_type": "code",
   "execution_count": 37,
   "id": "4e8724b1",
   "metadata": {},
   "outputs": [
    {
     "name": "stdout",
     "output_type": "stream",
     "text": [
      "Entered number of rows: 7\n",
      "            *  \n",
      "           * *  \n",
      "          * * *  \n",
      "         * * * *  \n",
      "        * * * * *  \n",
      "       * * * * * *  \n",
      "      * * * * * * *  \n"
     ]
    }
   ],
   "source": [
    "rows = int(input(\"Entered number of rows: \"))  \n",
    "k = (2*rows) - 2  \n",
    "for i in range(0, rows):  \n",
    "    for j in range(0, k):  \n",
    "        print(end=\" \")  \n",
    "    k = k - 1    \n",
    "    for j in range(0, i + 1):  \n",
    "         print(\"* \", end='')  \n",
    "    print(\" \")  "
   ]
  },
  {
   "cell_type": "markdown",
   "id": "eef80862",
   "metadata": {},
   "source": [
    "#### 12. Write a python function print Hourglass pattern. "
   ]
  },
  {
   "cell_type": "code",
   "execution_count": 45,
   "id": "fc8092c5",
   "metadata": {},
   "outputs": [
    {
     "name": "stdout",
     "output_type": "stream",
     "text": [
      "Enter the number of rows: 7\n",
      "     * * * * * * * * \n",
      "      * * * * * * * \n",
      "       * * * * * * \n",
      "        * * * * * \n",
      "         * * * * \n",
      "          * * * \n",
      "           * * \n",
      "            * \n",
      "            * *  \n",
      "           * * *  \n",
      "          * * * *  \n",
      "         * * * * *  \n",
      "        * * * * * *  \n",
      "       * * * * * * *  \n"
     ]
    }
   ],
   "source": [
    "rows = int(input(\"Enter the number of rows: \"))  \n",
    "k = rows - 2  \n",
    "# This is used to print the downward pyramid  \n",
    "for i in range(rows, -1 , -1):  \n",
    "    for j in range(k , 0 , -1):  \n",
    "        print(end=\" \")  \n",
    "    k = k + 1  \n",
    "    for j in range(0, i+1):  \n",
    "        print(\"* \" , end=\"\")  \n",
    "    print()  \n",
    "  \n",
    "# This is used to print the upward pyramid  \n",
    "k = (2*rows) - 2  \n",
    "for i in range(1, rows):  \n",
    "    for j in range(0, k):  \n",
    "        print(end=\" \")  \n",
    "    k = k - 1    \n",
    "    for j in range(0, i + 1):  \n",
    "         print(\"* \", end='')  \n",
    "    print(\" \")  "
   ]
  },
  {
   "cell_type": "markdown",
   "id": "0308462d",
   "metadata": {},
   "source": [
    "#### 14. Write a python function to print Diamond Shaped Pattern. Function must take integer input which represents the number of stars in the middle most line."
   ]
  },
  {
   "cell_type": "code",
   "execution_count": 48,
   "id": "93c257f2",
   "metadata": {},
   "outputs": [
    {
     "name": "stdout",
     "output_type": "stream",
     "text": [
      "Entered number of rows: 9\n",
      "                * \n",
      "               * * \n",
      "              * * * \n",
      "             * * * * \n",
      "            * * * * * \n",
      "           * * * * * * \n",
      "          * * * * * * * \n",
      "         * * * * * * * * \n",
      "        * * * * * * * * * \n",
      "       * * * * * * * * * * \n",
      "        * * * * * * * * * \n",
      "         * * * * * * * * \n",
      "          * * * * * * * \n",
      "           * * * * * * \n",
      "            * * * * * \n",
      "             * * * * \n",
      "              * * * \n",
      "               * * \n",
      "                * \n"
     ]
    }
   ],
   "source": [
    "row_num= int(input(\"Entered number of rows: \"))  \n",
    "k =(2*row_num) - 2    \n",
    "for i in range(0, row_num):    \n",
    "    for j in range(0, k):  \n",
    "        print(end=\" \")    \n",
    "    k = k - 1    \n",
    "    for j in range(0, i+1):  \n",
    "        print(\"* \", end=\"\")  \n",
    "    print(\"\")  \n",
    "  \n",
    "k = row_num - 2   \n",
    "for i in range(row_num, -1, -1):  \n",
    "    for j in range(k, 0, -1):  \n",
    "        print(end=\" \")    \n",
    "    k = k + 1    \n",
    "    for j in range(0, i + 1):  \n",
    "        print(\"* \", end=\"\")  \n",
    "    print(\"\")  \n"
   ]
  },
  {
   "cell_type": "code",
   "execution_count": null,
   "id": "351e9235",
   "metadata": {},
   "outputs": [],
   "source": []
  }
 ],
 "metadata": {
  "kernelspec": {
   "display_name": "Python 3 (ipykernel)",
   "language": "python",
   "name": "python3"
  },
  "language_info": {
   "codemirror_mode": {
    "name": "ipython",
    "version": 3
   },
   "file_extension": ".py",
   "mimetype": "text/x-python",
   "name": "python",
   "nbconvert_exporter": "python",
   "pygments_lexer": "ipython3",
   "version": "3.9.13"
  }
 },
 "nbformat": 4,
 "nbformat_minor": 5
}
