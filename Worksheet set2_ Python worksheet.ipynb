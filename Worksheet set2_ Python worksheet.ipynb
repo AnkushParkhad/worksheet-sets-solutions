{
 "cells": [
  {
   "cell_type": "markdown",
   "id": "2abe0a0b",
   "metadata": {},
   "source": [
    "#### Q14. Write a python program to solve a quadratic equation of the form ax^2+bx+c=0. Where a, b and c are to be taken by user input. Handle the erroneous input, such as ‘a’ should not be equal to 0"
   ]
  },
  {
   "cell_type": "code",
   "execution_count": 9,
   "id": "3ad781f3",
   "metadata": {},
   "outputs": [
    {
     "name": "stdout",
     "output_type": "stream",
     "text": [
      "Enter value of a5\n",
      "Enter value of b4\n",
      "Enter value of c3\n"
     ]
    },
    {
     "ename": "KeyboardInterrupt",
     "evalue": "",
     "output_type": "error",
     "traceback": [
      "\u001b[1;31m---------------------------------------------------------------------------\u001b[0m",
      "\u001b[1;31mKeyboardInterrupt\u001b[0m                         Traceback (most recent call last)",
      "\u001b[1;32m~\\AppData\\Local\\Temp\\ipykernel_19292\\719563294.py\u001b[0m in \u001b[0;36m<module>\u001b[1;34m\u001b[0m\n\u001b[0;32m      8\u001b[0m \u001b[1;33m\u001b[0m\u001b[0m\n\u001b[0;32m      9\u001b[0m     \u001b[0mvalue1\u001b[0m\u001b[1;33m=\u001b[0m\u001b[1;33m(\u001b[0m\u001b[1;33m(\u001b[0m\u001b[1;33m-\u001b[0m\u001b[0mb\u001b[0m\u001b[1;33m)\u001b[0m\u001b[1;33m+\u001b[0m \u001b[0mdis\u001b[0m\u001b[1;33m)\u001b[0m\u001b[1;33m/\u001b[0m\u001b[1;33m(\u001b[0m\u001b[1;36m2\u001b[0m\u001b[1;33m*\u001b[0m\u001b[0ma\u001b[0m\u001b[1;33m)\u001b[0m\u001b[1;33m\u001b[0m\u001b[1;33m\u001b[0m\u001b[0m\n\u001b[1;32m---> 10\u001b[1;33m     \u001b[0mvalue2\u001b[0m\u001b[1;33m=\u001b[0m\u001b[1;33m(\u001b[0m\u001b[1;33m(\u001b[0m\u001b[1;33m-\u001b[0m\u001b[0mb\u001b[0m\u001b[1;33m)\u001b[0m\u001b[1;33m-\u001b[0m \u001b[0mdis\u001b[0m\u001b[1;33m)\u001b[0m\u001b[1;33m/\u001b[0m\u001b[1;33m(\u001b[0m\u001b[1;36m2\u001b[0m\u001b[1;33m*\u001b[0m\u001b[0ma\u001b[0m\u001b[1;33m)\u001b[0m\u001b[1;33m\u001b[0m\u001b[1;33m\u001b[0m\u001b[0m\n\u001b[0m\u001b[0;32m     11\u001b[0m \u001b[1;33m\u001b[0m\u001b[0m\n\u001b[0;32m     12\u001b[0m \u001b[0mprint\u001b[0m\u001b[1;33m(\u001b[0m\u001b[1;34m\"The solution of given quadratic equation is:\"\u001b[0m\u001b[1;33m,\u001b[0m \u001b[0mvalue1\u001b[0m \u001b[1;32mand\u001b[0m \u001b[0mvalue2\u001b[0m\u001b[1;33m)\u001b[0m\u001b[1;33m\u001b[0m\u001b[1;33m\u001b[0m\u001b[0m\n",
      "\u001b[1;31mKeyboardInterrupt\u001b[0m: "
     ]
    }
   ],
   "source": [
    "a=float(input(\"Enter value of a:\"))\n",
    "b=float(input(\"Enter value of b:\"))\n",
    "c=float(input(\"Enter value of c:\"))\n",
    "\n",
    "while(a,b,c>0):\n",
    "        \n",
    "    dis=(((b**2)-(4*a*c))**0.5)\n",
    "\n",
    "    value1=((-b)+ dis)/(2*a)\n",
    "    value2=((-b)- dis)/(2*a)\n",
    "    \n",
    "print(\"The solution of given quadratic equation is:\", value1 and value2)\n",
    "    \n",
    "    "
   ]
  },
  {
   "cell_type": "markdown",
   "id": "d6af62ea",
   "metadata": {},
   "source": [
    "#### 15. Write a python program to find the sum of first ‘n’ natural numbers without using any loop. Ask users to input the value of ‘n’"
   ]
  },
  {
   "cell_type": "code",
   "execution_count": 3,
   "id": "5796fa77",
   "metadata": {},
   "outputs": [
    {
     "name": "stdout",
     "output_type": "stream",
     "text": [
      "Enter any natural number5\n",
      "The sum of first n natural number is: 15\n"
     ]
    }
   ],
   "source": [
    "n=int(input(\"Enter any natural number\" ))\n",
    "\n",
    "sum=0\n",
    "\n",
    "while(n>0):\n",
    "    sum=sum+n\n",
    "    n=n-1\n",
    "    \n",
    "print(\"The sum of first n natural number is:\", sum)\n",
    "    "
   ]
  },
  {
   "cell_type": "code",
   "execution_count": null,
   "id": "1eb41ea4",
   "metadata": {},
   "outputs": [],
   "source": []
  }
 ],
 "metadata": {
  "kernelspec": {
   "display_name": "Python 3 (ipykernel)",
   "language": "python",
   "name": "python3"
  },
  "language_info": {
   "codemirror_mode": {
    "name": "ipython",
    "version": 3
   },
   "file_extension": ".py",
   "mimetype": "text/x-python",
   "name": "python",
   "nbconvert_exporter": "python",
   "pygments_lexer": "ipython3",
   "version": "3.9.13"
  }
 },
 "nbformat": 4,
 "nbformat_minor": 5
}
