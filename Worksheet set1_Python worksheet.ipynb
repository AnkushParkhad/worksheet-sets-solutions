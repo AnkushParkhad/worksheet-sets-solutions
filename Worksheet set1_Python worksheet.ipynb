{
 "cells": [
  {
   "cell_type": "markdown",
   "id": "90c56cf6",
   "metadata": {},
   "source": [
    "## Q1. Write a python program to find factorial of a number."
   ]
  },
  {
   "cell_type": "code",
   "execution_count": 27,
   "id": "060face0",
   "metadata": {},
   "outputs": [
    {
     "name": "stdout",
     "output_type": "stream",
     "text": [
      "Enter any number5\n",
      "Factorial of given number is: 1\n",
      "Factorial of given number is: 2\n",
      "Factorial of given number is: 6\n",
      "Factorial of given number is: 24\n",
      "Factorial of given number is: 120\n"
     ]
    }
   ],
   "source": [
    "number=int(input(\"Enter any number\"))\n",
    "\n",
    "fact=1\n",
    "\n",
    "if number<0:\n",
    "    print(\"Factorial of a negative number is not possible\")\n",
    "    \n",
    "elif number==0:\n",
    "    print(\"Factorial of 0 is always 1\")\n",
    "    \n",
    "else:\n",
    "    for i in range(1,number+1):\n",
    "        fact=fact*i\n",
    "        print(\"Factorial of given number is:\",fact)\n",
    "        "
   ]
  },
  {
   "cell_type": "markdown",
   "id": "908c7c7a",
   "metadata": {},
   "source": [
    "## Q2. Write a python program to find whether a number is prime or composite"
   ]
  },
  {
   "cell_type": "code",
   "execution_count": 25,
   "id": "a7d629ce",
   "metadata": {},
   "outputs": [
    {
     "name": "stdout",
     "output_type": "stream",
     "text": [
      "Enter any number13\n",
      "13 is a prime number\n"
     ]
    }
   ],
   "source": [
    "num=int(input(\"Enter any number\"))\n",
    "\n",
    "if num==1 or num<1:\n",
    "    print(num, \"is neither natural nor composite number\")\n",
    "    \n",
    "elif num>1:\n",
    "    for i in range(2, num):\n",
    "        if (num % i)==0:\n",
    "            print(num, \"is a composite number\")\n",
    "            break\n",
    "        \n",
    "        else:\n",
    "            print(num, \"is a prime number\")\n",
    "            break\n",
    "\n",
    "    \n",
    "    "
   ]
  },
  {
   "cell_type": "markdown",
   "id": "7a463663",
   "metadata": {},
   "source": [
    "## Q13. Write a python program to check whether a given string is palindrome or not.\n"
   ]
  },
  {
   "cell_type": "code",
   "execution_count": 41,
   "id": "54cdee5b",
   "metadata": {},
   "outputs": [
    {
     "name": "stdout",
     "output_type": "stream",
     "text": [
      "Enter a number:67876\n",
      "This is a palindrome\n"
     ]
    }
   ],
   "source": [
    "num=int(input(\"Enter a number:\"))\n",
    "temp=num\n",
    "rev=0\n",
    "while(num>0):\n",
    "    digit=num%10\n",
    "    rev=rev*10+digit\n",
    "    num=num//10\n",
    "if(temp==rev):\n",
    "    print(\"This is a palindrome\")\n",
    "else:\n",
    "    print(\"This is not a palindrome\")"
   ]
  },
  {
   "cell_type": "markdown",
   "id": "b73b310d",
   "metadata": {},
   "source": [
    "###### Q14. Write a Python program to get the third side of right-angled triangle from two given sides"
   ]
  },
  {
   "cell_type": "code",
   "execution_count": null,
   "id": "2e840b40",
   "metadata": {},
   "outputs": [],
   "source": [
    "num1=int(input(\"enter side 1\"))\n",
    "num2=int(input(\"enter side 2\"))\n",
    "\n",
    "side1=num1\n",
    "side2=num2\n",
    "side\n",
    "\n",
    "if "
   ]
  },
  {
   "cell_type": "markdown",
   "id": "78b27212",
   "metadata": {},
   "source": [
    "#### 15. Write a python program to print the frequency of each of the characters present in a given string\n"
   ]
  },
  {
   "cell_type": "code",
   "execution_count": 43,
   "id": "97a0cb2d",
   "metadata": {},
   "outputs": [
    {
     "name": "stdout",
     "output_type": "stream",
     "text": [
      "{'I': 2, ' ': 12, 'w': 1, 'a': 7, 'n': 6, 't': 4, 'o': 2, 'm': 3, 'g': 1, 'e': 3, 'T': 1, 'i': 2, 'M': 1, 'A': 2, 'N': 1, 'G': 1, 'c': 1, 'p': 1, 'y': 1, 'f': 1, 'u': 2, 'r': 1, '.': 1}\n"
     ]
    }
   ],
   "source": [
    "string=\"I want to manage an IT team in a MAANG company in future.\"\n",
    "\n",
    "freq={}\n",
    "\n",
    "for i in string:\n",
    "    if i in freq:\n",
    "        freq[i] +=1\n",
    "    \n",
    "    else:\n",
    "        freq[i] =1\n",
    "        \n",
    "print(freq)"
   ]
  },
  {
   "cell_type": "code",
   "execution_count": null,
   "id": "2cf7f73a",
   "metadata": {},
   "outputs": [],
   "source": []
  }
 ],
 "metadata": {
  "kernelspec": {
   "display_name": "Python 3 (ipykernel)",
   "language": "python",
   "name": "python3"
  },
  "language_info": {
   "codemirror_mode": {
    "name": "ipython",
    "version": 3
   },
   "file_extension": ".py",
   "mimetype": "text/x-python",
   "name": "python",
   "nbconvert_exporter": "python",
   "pygments_lexer": "ipython3",
   "version": "3.9.13"
  }
 },
 "nbformat": 4,
 "nbformat_minor": 5
}
